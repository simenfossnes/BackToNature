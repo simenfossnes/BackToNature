{
 "cells": [
  {
   "cell_type": "code",
   "execution_count": 1,
   "metadata": {},
   "outputs": [],
   "source": [
    "import logging\n",
    "\n",
    "import numpy as np\n",
    "import sklearn\n",
    "import joblib\n",
    "from datetime import datetime\n",
    "\n",
    "import pandas as pd\n",
    "\n",
    "import urllib.request\n",
    "\n",
    "import json"
   ]
  },
  {
   "cell_type": "code",
   "execution_count": 2,
   "metadata": {},
   "outputs": [],
   "source": [
    "model_path, res = urllib.request.urlretrieve('https://backtonature8424020677.blob.core.windows.net/azureml-blobstore-9b6dfb01-7efa-4df8-9e52-0ff1446845bd/weather_pred_relative.joblib')"
   ]
  },
  {
   "cell_type": "code",
   "execution_count": 3,
   "metadata": {},
   "outputs": [],
   "source": [
    "clf = joblib.load(model_path)"
   ]
  },
  {
   "cell_type": "code",
   "execution_count": 4,
   "metadata": {},
   "outputs": [],
   "source": [
    "forecast_path, res = urllib.request.urlretrieve('https://backtonature8424020677.blob.core.windows.net/azureml-blobstore-9b6dfb01-7efa-4df8-9e52-0ff1446845bd/forecast_clean.csv')\n"
   ]
  },
  {
   "cell_type": "code",
   "execution_count": 5,
   "metadata": {},
   "outputs": [],
   "source": [
    "df = pd.read_csv(forecast_path)"
   ]
  },
  {
   "cell_type": "code",
   "execution_count": 6,
   "metadata": {},
   "outputs": [],
   "source": [
    "def get_features_from_timestamp(timestamp):\n",
    "    if timestamp is None:\n",
    "        dt = datetime.now()\n",
    "    else:\n",
    "        dt = datetime.fromtimestamp(int(timestamp))\n",
    "\n",
    "    forecast_path, res = urllib.request.urlretrieve('https://backtonature8424020677.blob.core.windows.net/azureml-blobstore-9b6dfb01-7efa-4df8-9e52-0ff1446845bd/forecast_clean.csv')\n",
    "    df = pd.read_csv(forecast_path)\n",
    "    df.start = pd.to_datetime(df.start)\n",
    "\n",
    "    idx = (dt - df.start).idxmin()\n",
    "\n",
    "    row = df.loc[idx]\n",
    "\n",
    "    \n",
    "    logging.info(f\"Time read: {str(dt)}\")\n",
    "\n",
    "    counters = [1043, 922, 1050, 912, 1225, 1246]\n",
    "    features = np.array([[dt.month, int(dt.weekday() >= 5), dt.weekday(), dt.day, dt.hour, counter, row.precipitation, row.temp] \n",
    "                        for counter in counters])\n",
    "\n",
    "    return features"
   ]
  },
  {
   "cell_type": "code",
   "execution_count": 7,
   "metadata": {},
   "outputs": [
    {
     "data": {
      "text/plain": [
       "1574028000.0"
      ]
     },
     "execution_count": 7,
     "metadata": {},
     "output_type": "execute_result"
    }
   ],
   "source": [
    "datetime(2019, 11, 18, 0, 0, 0).timestamp()"
   ]
  },
  {
   "cell_type": "code",
   "execution_count": 10,
   "metadata": {},
   "outputs": [],
   "source": [
    "features = get_features_from_timestamp(1546293600)"
   ]
  },
  {
   "cell_type": "code",
   "execution_count": 16,
   "metadata": {},
   "outputs": [],
   "source": [
    "probs = clf.predict_proba(features)"
   ]
  },
  {
   "cell_type": "code",
   "execution_count": 17,
   "metadata": {},
   "outputs": [
    {
     "data": {
      "text/plain": [
       "array([[0.38918792, 0.29197686, 0.20544395, 0.11339127],\n",
       "       [0.38918792, 0.29197686, 0.20544395, 0.11339127],\n",
       "       [0.38918792, 0.29197686, 0.20544395, 0.11339127],\n",
       "       [0.38918792, 0.29197686, 0.20544395, 0.11339127],\n",
       "       [0.38918792, 0.29197686, 0.20544395, 0.11339127],\n",
       "       [0.38918792, 0.29197686, 0.20544395, 0.11339127]])"
      ]
     },
     "execution_count": 17,
     "metadata": {},
     "output_type": "execute_result"
    }
   ],
   "source": [
    "probs"
   ]
  },
  {
   "cell_type": "code",
   "execution_count": 18,
   "metadata": {},
   "outputs": [
    {
     "data": {
      "text/plain": [
       "0"
      ]
     },
     "execution_count": 18,
     "metadata": {},
     "output_type": "execute_result"
    }
   ],
   "source": [
    "np.random.choice(range(4), p=probs[0])"
   ]
  },
  {
   "cell_type": "code",
   "execution_count": 17,
   "metadata": {},
   "outputs": [],
   "source": [
    "df.start = pd.to_datetime(df.start)"
   ]
  },
  {
   "cell_type": "code",
   "execution_count": 27,
   "metadata": {},
   "outputs": [
    {
     "data": {
      "text/plain": [
       "start            2019-11-23 12:00:00\n",
       "clouds                             6\n",
       "humidity                         100\n",
       "precipitation                    0.7\n",
       "snow                              -1\n",
       "temp                               2\n",
       "wind                            0.95\n",
       "Name: 13, dtype: object"
      ]
     },
     "execution_count": 27,
     "metadata": {},
     "output_type": "execute_result"
    }
   ],
   "source": [
    "df.loc[(pd.datetime(2019, 11, 17, 7, 0, 0) - df.start).idxmin()]"
   ]
  },
  {
   "cell_type": "code",
   "execution_count": 28,
   "metadata": {},
   "outputs": [],
   "source": [
    "np.random.seed(2137)"
   ]
  },
  {
   "cell_type": "code",
   "execution_count": 18,
   "metadata": {},
   "outputs": [
    {
     "data": {
      "text/html": [
       "<div>\n",
       "<style scoped>\n",
       "    .dataframe tbody tr th:only-of-type {\n",
       "        vertical-align: middle;\n",
       "    }\n",
       "\n",
       "    .dataframe tbody tr th {\n",
       "        vertical-align: top;\n",
       "    }\n",
       "\n",
       "    .dataframe thead th {\n",
       "        text-align: right;\n",
       "    }\n",
       "</style>\n",
       "<table border=\"1\" class=\"dataframe\">\n",
       "  <thead>\n",
       "    <tr style=\"text-align: right;\">\n",
       "      <th></th>\n",
       "      <th>start</th>\n",
       "      <th>clouds</th>\n",
       "      <th>humidity</th>\n",
       "      <th>precipitation</th>\n",
       "      <th>snow</th>\n",
       "      <th>temp</th>\n",
       "      <th>wind</th>\n",
       "    </tr>\n",
       "  </thead>\n",
       "  <tbody>\n",
       "    <tr>\n",
       "      <th>0</th>\n",
       "      <td>2019-11-17 00:00:00</td>\n",
       "      <td>7.0</td>\n",
       "      <td>97.5</td>\n",
       "      <td>0.30</td>\n",
       "      <td>0.0</td>\n",
       "      <td>6.0</td>\n",
       "      <td>4.00</td>\n",
       "    </tr>\n",
       "    <tr>\n",
       "      <th>1</th>\n",
       "      <td>2019-11-17 12:00:00</td>\n",
       "      <td>6.0</td>\n",
       "      <td>95.0</td>\n",
       "      <td>0.00</td>\n",
       "      <td>0.0</td>\n",
       "      <td>7.5</td>\n",
       "      <td>4.50</td>\n",
       "    </tr>\n",
       "    <tr>\n",
       "      <th>2</th>\n",
       "      <td>2019-11-18 00:00:00</td>\n",
       "      <td>5.5</td>\n",
       "      <td>100.0</td>\n",
       "      <td>0.00</td>\n",
       "      <td>-1.0</td>\n",
       "      <td>6.5</td>\n",
       "      <td>3.00</td>\n",
       "    </tr>\n",
       "    <tr>\n",
       "      <th>3</th>\n",
       "      <td>2019-11-18 12:00:00</td>\n",
       "      <td>6.0</td>\n",
       "      <td>100.0</td>\n",
       "      <td>0.00</td>\n",
       "      <td>-1.0</td>\n",
       "      <td>6.0</td>\n",
       "      <td>4.50</td>\n",
       "    </tr>\n",
       "    <tr>\n",
       "      <th>4</th>\n",
       "      <td>2019-11-19 00:00:00</td>\n",
       "      <td>6.5</td>\n",
       "      <td>100.0</td>\n",
       "      <td>0.35</td>\n",
       "      <td>-1.0</td>\n",
       "      <td>6.5</td>\n",
       "      <td>5.50</td>\n",
       "    </tr>\n",
       "    <tr>\n",
       "      <th>5</th>\n",
       "      <td>2019-11-19 12:00:00</td>\n",
       "      <td>6.0</td>\n",
       "      <td>100.0</td>\n",
       "      <td>0.00</td>\n",
       "      <td>-1.0</td>\n",
       "      <td>6.0</td>\n",
       "      <td>4.00</td>\n",
       "    </tr>\n",
       "    <tr>\n",
       "      <th>6</th>\n",
       "      <td>2019-11-20 00:00:00</td>\n",
       "      <td>4.5</td>\n",
       "      <td>100.0</td>\n",
       "      <td>0.05</td>\n",
       "      <td>-1.0</td>\n",
       "      <td>5.5</td>\n",
       "      <td>3.50</td>\n",
       "    </tr>\n",
       "    <tr>\n",
       "      <th>7</th>\n",
       "      <td>2019-11-20 12:00:00</td>\n",
       "      <td>6.0</td>\n",
       "      <td>100.0</td>\n",
       "      <td>0.00</td>\n",
       "      <td>-1.0</td>\n",
       "      <td>6.0</td>\n",
       "      <td>3.50</td>\n",
       "    </tr>\n",
       "    <tr>\n",
       "      <th>8</th>\n",
       "      <td>2019-11-21 00:00:00</td>\n",
       "      <td>6.0</td>\n",
       "      <td>100.0</td>\n",
       "      <td>0.00</td>\n",
       "      <td>-1.0</td>\n",
       "      <td>4.0</td>\n",
       "      <td>3.50</td>\n",
       "    </tr>\n",
       "    <tr>\n",
       "      <th>9</th>\n",
       "      <td>2019-11-21 12:00:00</td>\n",
       "      <td>4.0</td>\n",
       "      <td>100.0</td>\n",
       "      <td>0.00</td>\n",
       "      <td>-1.0</td>\n",
       "      <td>4.0</td>\n",
       "      <td>2.55</td>\n",
       "    </tr>\n",
       "    <tr>\n",
       "      <th>10</th>\n",
       "      <td>2019-11-22 00:00:00</td>\n",
       "      <td>5.0</td>\n",
       "      <td>100.0</td>\n",
       "      <td>0.30</td>\n",
       "      <td>-1.0</td>\n",
       "      <td>4.0</td>\n",
       "      <td>0.35</td>\n",
       "    </tr>\n",
       "    <tr>\n",
       "      <th>11</th>\n",
       "      <td>2019-11-22 12:00:00</td>\n",
       "      <td>5.5</td>\n",
       "      <td>100.0</td>\n",
       "      <td>0.50</td>\n",
       "      <td>-1.0</td>\n",
       "      <td>4.0</td>\n",
       "      <td>1.20</td>\n",
       "    </tr>\n",
       "    <tr>\n",
       "      <th>12</th>\n",
       "      <td>2019-11-23 00:00:00</td>\n",
       "      <td>5.5</td>\n",
       "      <td>100.0</td>\n",
       "      <td>1.10</td>\n",
       "      <td>-1.0</td>\n",
       "      <td>-0.5</td>\n",
       "      <td>1.50</td>\n",
       "    </tr>\n",
       "    <tr>\n",
       "      <th>13</th>\n",
       "      <td>2019-11-23 12:00:00</td>\n",
       "      <td>6.0</td>\n",
       "      <td>100.0</td>\n",
       "      <td>0.70</td>\n",
       "      <td>-1.0</td>\n",
       "      <td>2.0</td>\n",
       "      <td>0.95</td>\n",
       "    </tr>\n",
       "  </tbody>\n",
       "</table>\n",
       "</div>"
      ],
      "text/plain": [
       "                 start  clouds  humidity  precipitation  snow  temp  wind\n",
       "0  2019-11-17 00:00:00     7.0      97.5           0.30   0.0   6.0  4.00\n",
       "1  2019-11-17 12:00:00     6.0      95.0           0.00   0.0   7.5  4.50\n",
       "2  2019-11-18 00:00:00     5.5     100.0           0.00  -1.0   6.5  3.00\n",
       "3  2019-11-18 12:00:00     6.0     100.0           0.00  -1.0   6.0  4.50\n",
       "4  2019-11-19 00:00:00     6.5     100.0           0.35  -1.0   6.5  5.50\n",
       "5  2019-11-19 12:00:00     6.0     100.0           0.00  -1.0   6.0  4.00\n",
       "6  2019-11-20 00:00:00     4.5     100.0           0.05  -1.0   5.5  3.50\n",
       "7  2019-11-20 12:00:00     6.0     100.0           0.00  -1.0   6.0  3.50\n",
       "8  2019-11-21 00:00:00     6.0     100.0           0.00  -1.0   4.0  3.50\n",
       "9  2019-11-21 12:00:00     4.0     100.0           0.00  -1.0   4.0  2.55\n",
       "10 2019-11-22 00:00:00     5.0     100.0           0.30  -1.0   4.0  0.35\n",
       "11 2019-11-22 12:00:00     5.5     100.0           0.50  -1.0   4.0  1.20\n",
       "12 2019-11-23 00:00:00     5.5     100.0           1.10  -1.0  -0.5  1.50\n",
       "13 2019-11-23 12:00:00     6.0     100.0           0.70  -1.0   2.0  0.95"
      ]
     },
     "execution_count": 18,
     "metadata": {},
     "output_type": "execute_result"
    }
   ],
   "source": [
    "df"
   ]
  },
  {
   "cell_type": "code",
   "execution_count": 6,
   "metadata": {},
   "outputs": [],
   "source": [
    "path, res = _"
   ]
  },
  {
   "cell_type": "code",
   "execution_count": 8,
   "metadata": {},
   "outputs": [],
   "source": [
    "import joblib"
   ]
  },
  {
   "cell_type": "code",
   "execution_count": 9,
   "metadata": {},
   "outputs": [],
   "source": [
    "cls = joblib.load(path)"
   ]
  },
  {
   "cell_type": "code",
   "execution_count": 11,
   "metadata": {},
   "outputs": [
    {
     "data": {
      "text/plain": [
       "RandomForestClassifier(bootstrap=True, class_weight=None, criterion='gini',\n",
       "                       max_depth=10, max_features='auto', max_leaf_nodes=None,\n",
       "                       min_impurity_decrease=0.0, min_impurity_split=None,\n",
       "                       min_samples_leaf=1, min_samples_split=2,\n",
       "                       min_weight_fraction_leaf=0.0, n_estimators=100,\n",
       "                       n_jobs=None, oob_score=False, random_state=None,\n",
       "                       verbose=0, warm_start=False)"
      ]
     },
     "execution_count": 11,
     "metadata": {},
     "output_type": "execute_result"
    }
   ],
   "source": [
    "cls"
   ]
  }
 ],
 "metadata": {
  "kernelspec": {
   "display_name": "Py3.7-Junction",
   "language": "python",
   "name": "junction"
  },
  "language_info": {
   "codemirror_mode": {
    "name": "ipython",
    "version": 3
   },
   "file_extension": ".py",
   "mimetype": "text/x-python",
   "name": "python",
   "nbconvert_exporter": "python",
   "pygments_lexer": "ipython3",
   "version": "3.7.0"
  }
 },
 "nbformat": 4,
 "nbformat_minor": 2
}
