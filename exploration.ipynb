{
 "cells": [
  {
   "cell_type": "code",
   "execution_count": 464,
   "metadata": {},
   "outputs": [],
   "source": [
    "import numpy as np\n",
    "import pandas as pd\n",
    "\n",
    "import matplotlib.pyplot as plt\n",
    "import seaborn as sns\n",
    "\n",
    "from pyproj import CRS, Proj, transform\n",
    "\n",
    "import plotly.graph_objs as go\n",
    "from plotly.offline import init_notebook_mode, plot, iplot\n",
    "\n",
    "import pystan\n",
    "\n",
    "from sklearn.svm import SVC\n",
    "from sklearn.ensemble import RandomForestClassifier, RandomForestRegressor, ExtraTreesClassifier, ExtraTreesRegressor\n",
    "from sklearn.model_selection import train_test_split, GridSearchCV\n",
    "from sklearn.metrics import confusion_matrix, accuracy_score, mean_absolute_error, mean_squared_error, recall_score, precision_score, roc_auc_score"
   ]
  },
  {
   "cell_type": "code",
   "execution_count": 2,
   "metadata": {},
   "outputs": [],
   "source": [
    "sns.set()\n",
    "\n",
    "plt.rcParams['figure.figsize'] = (12, 8)\n"
   ]
  },
  {
   "cell_type": "code",
   "execution_count": 103,
   "metadata": {},
   "outputs": [],
   "source": [
    "%load_ext jupyterstan"
   ]
  },
  {
   "cell_type": "code",
   "execution_count": 3,
   "metadata": {},
   "outputs": [],
   "source": [
    "df = pd.read_excel(\"counter_data.xlsx\")"
   ]
  },
  {
   "cell_type": "code",
   "execution_count": 4,
   "metadata": {},
   "outputs": [],
   "source": [
    "df = df[['CounterReadingID', 'StartTime', 'EndTime', 'Visits', 'CounterID_ASTA', 'ASTA_Counters.RegionalUnit', 'PAVE_Counters.CoordinateNorth', 'PAVE_Counters.CoordinateEast']]\n",
    "df.columns = ['id', 'start', 'end', 'visits', 'counter', 'park', 'north', 'east']\n",
    "\n",
    "df = df.dropna()\n",
    "df['duration'] = df.end - df.start\n",
    "\n",
    "df = df.astype({\"visits\": int, \"counter\": int, \"park\": int, 'north': int, 'east': int})"
   ]
  },
  {
   "cell_type": "code",
   "execution_count": 5,
   "metadata": {},
   "outputs": [],
   "source": [
    "df_hourly = df[(df.duration == np.timedelta64(1, 'h')) & (df.park == 625)].sort_values('start')"
   ]
  },
  {
   "cell_type": "code",
   "execution_count": 16,
   "metadata": {},
   "outputs": [],
   "source": [
    "df_counters = df_hourly.groupby('counter').resample('1d', on='start').sum()[['visits']]  # only daily data in Nuuksio"
   ]
  },
  {
   "cell_type": "code",
   "execution_count": 368,
   "metadata": {},
   "outputs": [],
   "source": [
    "df_flat = pd.DataFrame(df_counters.to_records())"
   ]
  },
  {
   "cell_type": "code",
   "execution_count": 369,
   "metadata": {},
   "outputs": [],
   "source": [
    "medians = df_flat.groupby('counter').median()['visits']"
   ]
  },
  {
   "cell_type": "code",
   "execution_count": 371,
   "metadata": {},
   "outputs": [],
   "source": [
    "df_flat['week_day'] = df_flat.start.dt.dayofweek\n",
    "df_flat['weekend'] = df_flat.week_day.isin([5, 6]).astype(int)\n",
    "df_flat['month'] = df_flat.start.dt.month\n",
    "df_flat['day'] = df_flat.start.dt.day\n",
    "\n",
    "df_flat = df_flat.sort_values(by=['counter', 'start'])\n",
    "\n",
    "df_flat['busy'] = (df_flat['visits'] > df_flat['visits'].median()).astype(int)\n",
    "df_flat['counter_busy'] = df_flat.apply(lambda x: x[2] >= medians[x[0]], 1).astype(int)"
   ]
  },
  {
   "cell_type": "code",
   "execution_count": 372,
   "metadata": {},
   "outputs": [],
   "source": [
    "df_flat = df_flat[df_flat.visits > 0]"
   ]
  },
  {
   "cell_type": "code",
   "execution_count": 473,
   "metadata": {},
   "outputs": [],
   "source": [
    "x_data = df_flat[['month', 'weekend', 'week_day', 'day', 'counter']].values\n",
    "y_data = df_flat[['counter_busy']].values.ravel()\n",
    "\n",
    "x_train, x_test, y_train, y_test = train_test_split(x_data, y_data)"
   ]
  },
  {
   "cell_type": "code",
   "execution_count": 474,
   "metadata": {},
   "outputs": [
    {
     "data": {
      "text/plain": [
       "0.7569118414188837"
      ]
     },
     "execution_count": 474,
     "metadata": {},
     "output_type": "execute_result"
    }
   ],
   "source": [
    "clf = RandomForestClassifier(n_estimators=100, max_depth=10)\n",
    "# clf = SVC()\n",
    "\n",
    "clf.fit(x_train, y_train)\n",
    "\n",
    "clf.score(x_test, y_test)"
   ]
  },
  {
   "cell_type": "code",
   "execution_count": 462,
   "metadata": {},
   "outputs": [],
   "source": [
    "y_data = df_flat[['visits']].values.ravel()\n",
    "\n",
    "x_train, x_test, y_train, y_test = train_test_split(x_data, y_data)"
   ]
  },
  {
   "cell_type": "code",
   "execution_count": 463,
   "metadata": {},
   "outputs": [
    {
     "data": {
      "text/plain": [
       "0.6019333745022577"
      ]
     },
     "execution_count": 463,
     "metadata": {},
     "output_type": "execute_result"
    }
   ],
   "source": [
    "clf = RandomForestRegressor(n_estimators=100, max_depth=10)\n",
    "# clf = SVC()\n",
    "\n",
    "clf.fit(x_train, y_train)\n",
    "\n",
    "clf.score(x_test, y_test)"
   ]
  },
  {
   "cell_type": "code",
   "execution_count": 469,
   "metadata": {},
   "outputs": [
    {
     "data": {
      "text/plain": [
       "33.21005728362416"
      ]
     },
     "execution_count": 469,
     "metadata": {},
     "output_type": "execute_result"
    }
   ],
   "source": [
    "np.sqrt(mean_squared_error(y_test, clf.predict(x_test)))"
   ]
  },
  {
   "cell_type": "code",
   "execution_count": 489,
   "metadata": {},
   "outputs": [],
   "source": [
    "weather = pd.read_csv('weather.csv')\n",
    "\n",
    "weather.columns = ['date', 'T', 'P0', 'P', 'U', 'DD', 'Ff', 'ff10', 'WW', 'W\\'W', 'c', 'VV', 'Td']\n",
    "\n",
    "weather.date = pd.DatetimeIndex(weather.date)"
   ]
  },
  {
   "cell_type": "code",
   "execution_count": 506,
   "metadata": {},
   "outputs": [
    {
     "data": {
      "text/html": [
       "<div>\n",
       "<style scoped>\n",
       "    .dataframe tbody tr th:only-of-type {\n",
       "        vertical-align: middle;\n",
       "    }\n",
       "\n",
       "    .dataframe tbody tr th {\n",
       "        vertical-align: top;\n",
       "    }\n",
       "\n",
       "    .dataframe thead th {\n",
       "        text-align: right;\n",
       "    }\n",
       "</style>\n",
       "<table border=\"1\" class=\"dataframe\">\n",
       "  <thead>\n",
       "    <tr style=\"text-align: right;\">\n",
       "      <th></th>\n",
       "      <th>date</th>\n",
       "      <th>T</th>\n",
       "      <th>P0</th>\n",
       "      <th>P</th>\n",
       "      <th>U</th>\n",
       "      <th>DD</th>\n",
       "      <th>Ff</th>\n",
       "      <th>ff10</th>\n",
       "      <th>WW</th>\n",
       "      <th>W'W</th>\n",
       "      <th>c</th>\n",
       "      <th>VV</th>\n",
       "      <th>Td</th>\n",
       "    </tr>\n",
       "  </thead>\n",
       "  <tbody>\n",
       "    <tr>\n",
       "      <td>0</td>\n",
       "      <td>2019-10-31 23:50:00</td>\n",
       "      <td>1.0</td>\n",
       "      <td>754.2</td>\n",
       "      <td>759.0</td>\n",
       "      <td>93.0</td>\n",
       "      <td>Wind blowing from the west</td>\n",
       "      <td>4</td>\n",
       "      <td>NaN</td>\n",
       "      <td>NaN</td>\n",
       "      <td>NaN</td>\n",
       "      <td>No Significant Clouds</td>\n",
       "      <td>10.0 and more</td>\n",
       "      <td>0.0</td>\n",
       "    </tr>\n",
       "    <tr>\n",
       "      <td>1</td>\n",
       "      <td>2019-10-31 23:20:00</td>\n",
       "      <td>1.0</td>\n",
       "      <td>754.2</td>\n",
       "      <td>759.0</td>\n",
       "      <td>93.0</td>\n",
       "      <td>Wind blowing from the west</td>\n",
       "      <td>5</td>\n",
       "      <td>NaN</td>\n",
       "      <td>NaN</td>\n",
       "      <td>NaN</td>\n",
       "      <td>No Significant Clouds</td>\n",
       "      <td>10.0 and more</td>\n",
       "      <td>0.0</td>\n",
       "    </tr>\n",
       "    <tr>\n",
       "      <td>2</td>\n",
       "      <td>2019-10-31 22:50:00</td>\n",
       "      <td>1.0</td>\n",
       "      <td>754.2</td>\n",
       "      <td>759.0</td>\n",
       "      <td>93.0</td>\n",
       "      <td>Wind blowing from the west</td>\n",
       "      <td>4</td>\n",
       "      <td>NaN</td>\n",
       "      <td>NaN</td>\n",
       "      <td>NaN</td>\n",
       "      <td>No Significant Clouds</td>\n",
       "      <td>10.0 and more</td>\n",
       "      <td>0.0</td>\n",
       "    </tr>\n",
       "    <tr>\n",
       "      <td>3</td>\n",
       "      <td>2019-10-31 22:20:00</td>\n",
       "      <td>2.0</td>\n",
       "      <td>754.2</td>\n",
       "      <td>759.0</td>\n",
       "      <td>87.0</td>\n",
       "      <td>Wind blowing from the west</td>\n",
       "      <td>4</td>\n",
       "      <td>NaN</td>\n",
       "      <td>NaN</td>\n",
       "      <td>NaN</td>\n",
       "      <td>No Significant Clouds</td>\n",
       "      <td>10.0 and more</td>\n",
       "      <td>0.0</td>\n",
       "    </tr>\n",
       "    <tr>\n",
       "      <td>4</td>\n",
       "      <td>2019-10-31 21:50:00</td>\n",
       "      <td>2.0</td>\n",
       "      <td>754.2</td>\n",
       "      <td>759.0</td>\n",
       "      <td>87.0</td>\n",
       "      <td>Wind blowing from the west</td>\n",
       "      <td>4</td>\n",
       "      <td>NaN</td>\n",
       "      <td>NaN</td>\n",
       "      <td>NaN</td>\n",
       "      <td>Few clouds (10-30%) 450 m</td>\n",
       "      <td>10.0 and more</td>\n",
       "      <td>0.0</td>\n",
       "    </tr>\n",
       "    <tr>\n",
       "      <td>...</td>\n",
       "      <td>...</td>\n",
       "      <td>...</td>\n",
       "      <td>...</td>\n",
       "      <td>...</td>\n",
       "      <td>...</td>\n",
       "      <td>...</td>\n",
       "      <td>...</td>\n",
       "      <td>...</td>\n",
       "      <td>...</td>\n",
       "      <td>...</td>\n",
       "      <td>...</td>\n",
       "      <td>...</td>\n",
       "      <td>...</td>\n",
       "    </tr>\n",
       "    <tr>\n",
       "      <td>83276</td>\n",
       "      <td>2015-01-01 02:20:00</td>\n",
       "      <td>4.0</td>\n",
       "      <td>753.0</td>\n",
       "      <td>757.7</td>\n",
       "      <td>87.0</td>\n",
       "      <td>Wind blowing from the west</td>\n",
       "      <td>4</td>\n",
       "      <td>NaN</td>\n",
       "      <td>NaN</td>\n",
       "      <td>NaN</td>\n",
       "      <td>Few clouds (10-30%) 1290 m, broken clouds (60-...</td>\n",
       "      <td>10.0 and more</td>\n",
       "      <td>2.0</td>\n",
       "    </tr>\n",
       "    <tr>\n",
       "      <td>83277</td>\n",
       "      <td>2015-01-01 01:50:00</td>\n",
       "      <td>4.0</td>\n",
       "      <td>753.0</td>\n",
       "      <td>757.7</td>\n",
       "      <td>87.0</td>\n",
       "      <td>Wind blowing from the west</td>\n",
       "      <td>5</td>\n",
       "      <td>NaN</td>\n",
       "      <td>NaN</td>\n",
       "      <td>NaN</td>\n",
       "      <td>Few clouds (10-30%) 1200 m, broken clouds (60-...</td>\n",
       "      <td>10.0 and more</td>\n",
       "      <td>2.0</td>\n",
       "    </tr>\n",
       "    <tr>\n",
       "      <td>83278</td>\n",
       "      <td>2015-01-01 01:20:00</td>\n",
       "      <td>4.0</td>\n",
       "      <td>753.0</td>\n",
       "      <td>757.7</td>\n",
       "      <td>87.0</td>\n",
       "      <td>Wind blowing from the west</td>\n",
       "      <td>4</td>\n",
       "      <td>NaN</td>\n",
       "      <td>NaN</td>\n",
       "      <td>NaN</td>\n",
       "      <td>No Significant Clouds</td>\n",
       "      <td>10.0 and more</td>\n",
       "      <td>2.0</td>\n",
       "    </tr>\n",
       "    <tr>\n",
       "      <td>83279</td>\n",
       "      <td>2015-01-01 00:50:00</td>\n",
       "      <td>4.0</td>\n",
       "      <td>753.0</td>\n",
       "      <td>757.7</td>\n",
       "      <td>87.0</td>\n",
       "      <td>Wind blowing from the west</td>\n",
       "      <td>4</td>\n",
       "      <td>NaN</td>\n",
       "      <td>NaN</td>\n",
       "      <td>NaN</td>\n",
       "      <td>No Significant Clouds</td>\n",
       "      <td>10.0 and more</td>\n",
       "      <td>2.0</td>\n",
       "    </tr>\n",
       "    <tr>\n",
       "      <td>83280</td>\n",
       "      <td>2015-01-01 00:20:00</td>\n",
       "      <td>4.0</td>\n",
       "      <td>753.0</td>\n",
       "      <td>757.7</td>\n",
       "      <td>87.0</td>\n",
       "      <td>Wind blowing from the west</td>\n",
       "      <td>4</td>\n",
       "      <td>NaN</td>\n",
       "      <td>NaN</td>\n",
       "      <td>NaN</td>\n",
       "      <td>No Significant Clouds</td>\n",
       "      <td>10.0 and more</td>\n",
       "      <td>2.0</td>\n",
       "    </tr>\n",
       "  </tbody>\n",
       "</table>\n",
       "<p>83281 rows × 13 columns</p>\n",
       "</div>"
      ],
      "text/plain": [
       "                     date    T     P0      P     U  \\\n",
       "0     2019-10-31 23:50:00  1.0  754.2  759.0  93.0   \n",
       "1     2019-10-31 23:20:00  1.0  754.2  759.0  93.0   \n",
       "2     2019-10-31 22:50:00  1.0  754.2  759.0  93.0   \n",
       "3     2019-10-31 22:20:00  2.0  754.2  759.0  87.0   \n",
       "4     2019-10-31 21:50:00  2.0  754.2  759.0  87.0   \n",
       "...                   ...  ...    ...    ...   ...   \n",
       "83276 2015-01-01 02:20:00  4.0  753.0  757.7  87.0   \n",
       "83277 2015-01-01 01:50:00  4.0  753.0  757.7  87.0   \n",
       "83278 2015-01-01 01:20:00  4.0  753.0  757.7  87.0   \n",
       "83279 2015-01-01 00:50:00  4.0  753.0  757.7  87.0   \n",
       "83280 2015-01-01 00:20:00  4.0  753.0  757.7  87.0   \n",
       "\n",
       "                               DD  Ff  ff10   WW  W'W  \\\n",
       "0      Wind blowing from the west   4   NaN  NaN  NaN   \n",
       "1      Wind blowing from the west   5   NaN  NaN  NaN   \n",
       "2      Wind blowing from the west   4   NaN  NaN  NaN   \n",
       "3      Wind blowing from the west   4   NaN  NaN  NaN   \n",
       "4      Wind blowing from the west   4   NaN  NaN  NaN   \n",
       "...                           ...  ..   ...  ...  ...   \n",
       "83276  Wind blowing from the west   4   NaN  NaN  NaN   \n",
       "83277  Wind blowing from the west   5   NaN  NaN  NaN   \n",
       "83278  Wind blowing from the west   4   NaN  NaN  NaN   \n",
       "83279  Wind blowing from the west   4   NaN  NaN  NaN   \n",
       "83280  Wind blowing from the west   4   NaN  NaN  NaN   \n",
       "\n",
       "                                                       c             VV   Td  \n",
       "0                                  No Significant Clouds  10.0 and more  0.0  \n",
       "1                                  No Significant Clouds  10.0 and more  0.0  \n",
       "2                                  No Significant Clouds  10.0 and more  0.0  \n",
       "3                                  No Significant Clouds  10.0 and more  0.0  \n",
       "4                              Few clouds (10-30%) 450 m  10.0 and more  0.0  \n",
       "...                                                  ...            ...  ...  \n",
       "83276  Few clouds (10-30%) 1290 m, broken clouds (60-...  10.0 and more  2.0  \n",
       "83277  Few clouds (10-30%) 1200 m, broken clouds (60-...  10.0 and more  2.0  \n",
       "83278                              No Significant Clouds  10.0 and more  2.0  \n",
       "83279                              No Significant Clouds  10.0 and more  2.0  \n",
       "83280                              No Significant Clouds  10.0 and more  2.0  \n",
       "\n",
       "[83281 rows x 13 columns]"
      ]
     },
     "execution_count": 506,
     "metadata": {},
     "output_type": "execute_result"
    }
   ],
   "source": [
    "weather"
   ]
  },
  {
   "cell_type": "code",
   "execution_count": 509,
   "metadata": {},
   "outputs": [
    {
     "data": {
      "text/plain": [
       "date\n",
       "2015-01-01     2.851064\n",
       "2015-01-02     0.177778\n",
       "2015-01-03     1.486486\n",
       "2015-01-04     1.372093\n",
       "2015-01-05     9.045455\n",
       "                ...    \n",
       "2019-12-06    15.125000\n",
       "2019-12-07    13.458333\n",
       "2019-12-08    18.166667\n",
       "2019-12-09    14.833333\n",
       "2019-12-10     9.104167\n",
       "Freq: D, Name: T, Length: 1805, dtype: float64"
      ]
     },
     "execution_count": 509,
     "metadata": {},
     "output_type": "execute_result"
    }
   ],
   "source": [
    "weather.resample('1d', on='date')['T'].mean()"
   ]
  },
  {
   "cell_type": "markdown",
   "metadata": {},
   "source": [
    "# FEATURES:"
   ]
  },
  {
   "cell_type": "markdown",
   "metadata": {},
   "source": [
    "1. Day of the week\n",
    "2. Month\n",
    "3. Day number"
   ]
  },
  {
   "cell_type": "code",
   "execution_count": 44,
   "metadata": {},
   "outputs": [],
   "source": [
    "counter_ids = np.unique(df_counters.index.get_level_values('counter'))"
   ]
  },
  {
   "cell_type": "code",
   "execution_count": 276,
   "metadata": {},
   "outputs": [
    {
     "data": {
      "text/plain": [
       "array([ 912,  922, 1043, 1050, 1225, 1246])"
      ]
     },
     "execution_count": 276,
     "metadata": {},
     "output_type": "execute_result"
    }
   ],
   "source": [
    "counter_ids"
   ]
  },
  {
   "cell_type": "code",
   "execution_count": 275,
   "metadata": {},
   "outputs": [
    {
     "data": {
      "image/png": "[encoded data removed]",
      "text/plain": [
       "<Figure size 864x576 with 1 Axes>"
      ]
     },
     "metadata": {},
     "output_type": "display_data"
    },
    {
     "data": {
      "text/plain": [
       "(365, 1)"
      ]
     },
     "execution_count": 275,
     "metadata": {},
     "output_type": "execute_result"
    }
   ],
   "source": [
    "idx = 0  # 0..5\n",
    "year_start = 2018\n",
    "year_end = year_start + 1\n",
    "\n",
    "counter_id = counter_ids[idx]\n",
    "\n",
    "df_plot = df_counters[df_counters.index.get_level_values('start') < pd.datetime(year_end, 1, 1)]\n",
    "df_plot = df_plot[pd.datetime(year_start, 1, 1) <= df_plot.index.get_level_values('start')]\n",
    "\n",
    "sns.scatterplot(x=df_plot.loc[counter_id].index, y='visits', data=df_plot.loc[counter_id])\n",
    "plt.xlim(pd.datetime(year_start, 1, 1), pd.datetime(year_end, 1, 1))\n",
    "plt.ylim(0, 200)\n",
    "plt.show()\n",
    "df_plot.loc[counter_id].shape"
   ]
  },
  {
   "cell_type": "code",
   "execution_count": 165,
   "metadata": {},
   "outputs": [],
   "source": [
    "coords = df_hourly.apply(lambda x: (x[7], x[6]), axis=1).unique()"
   ]
  },
  {
   "cell_type": "code",
   "execution_count": 166,
   "metadata": {},
   "outputs": [],
   "source": [
    "# Coordinate conversion template\n",
    "crs = CRS.from_epsg(3067)\n",
    "\n",
    "in_proj = Proj('epsg:3067')\n",
    "out_proj = Proj('merc')\n",
    "\n",
    "# x, y = transform(in_proj, out_proj, df_hourly.east.values[1000], df_hourly.north.values[1000])\n",
    "\n",
    "# x, y"
   ]
  },
  {
   "cell_type": "code",
   "execution_count": 167,
   "metadata": {},
   "outputs": [],
   "source": [
    "merc_coords = []\n",
    "for east, north in coords:\n",
    "    merc_coords.append(transform(in_proj, out_proj, east, north))"
   ]
  },
  {
   "cell_type": "code",
   "execution_count": 168,
   "metadata": {},
   "outputs": [
    {
     "data": {
      "text/plain": [
       "[(60.303525451006834, 24.550391008969527),\n",
       " (60.33073081360451, 24.492838046488888),\n",
       " (60.27581963490531, 24.46368928427852),\n",
       " (60.326924542956334, 24.495358359272675),\n",
       " (60.29819039594651, 24.45628974906327),\n",
       " (60.28242199633351, 24.505873789599413)]"
      ]
     },
     "execution_count": 168,
     "metadata": {},
     "output_type": "execute_result"
    }
   ],
   "source": [
    "merc_coords"
   ]
  }
 ],
 "metadata": {
  "kernelspec": {
   "display_name": "Py3.7-BDA",
   "language": "python",
   "name": "bda"
  },
  "language_info": {
   "codemirror_mode": {
    "name": "ipython",
    "version": 3
   },
   "file_extension": ".py",
   "mimetype": "text/x-python",
   "name": "python",
   "nbconvert_exporter": "python",
   "pygments_lexer": "ipython3",
   "version": "3.7.4"
  }
 },
 "nbformat": 4,
 "nbformat_minor": 2
}
