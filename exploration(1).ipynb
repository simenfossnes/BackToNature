{
 "cells": [
  {
   "cell_type": "code",
   "execution_count": 229,
   "metadata": {},
   "outputs": [],
   "source": [
    "import numpy as np\n",
    "import pandas as pd\n",
    "\n",
    "import matplotlib.pyplot as plt\n",
    "import seaborn as sns\n",
    "\n",
    "from pyproj import CRS, Proj, transform\n",
    "\n",
    "import plotly.graph_objs as go\n",
    "from plotly.offline import init_notebook_mode, plot, iplot\n",
    "\n",
    "from sklearn.neighbors import KNeighborsRegressor, KNeighborsClassifier\n",
    "from sklearn.svm import SVC, SVR\n",
    "from sklearn.ensemble import RandomForestClassifier, RandomForestRegressor, ExtraTreesClassifier, ExtraTreesRegressor\n",
    "from sklearn.tree import DecisionTreeClassifier\n",
    "from sklearn.model_selection import train_test_split, GridSearchCV\n",
    "from sklearn.metrics import confusion_matrix, accuracy_score, mean_absolute_error, mean_squared_error, recall_score, precision_score, roc_auc_score"
   ]
  },
  {
   "cell_type": "code",
   "execution_count": 5,
   "metadata": {},
   "outputs": [],
   "source": [
    "sns.set()\n",
    "\n",
    "plt.rcParams['figure.figsize'] = (12, 8)\n"
   ]
  },
  {
   "cell_type": "code",
   "execution_count": 6,
   "metadata": {},
   "outputs": [],
   "source": [
    "df = pd.read_excel(\"counter_data.xlsx\")"
   ]
  },
  {
   "cell_type": "code",
   "execution_count": 7,
   "metadata": {},
   "outputs": [],
   "source": [
    "df = df[['CounterReadingID', 'StartTime', 'EndTime', 'Visits', 'CounterID_ASTA', 'ASTA_Counters.RegionalUnit', 'PAVE_Counters.CoordinateNorth', 'PAVE_Counters.CoordinateEast']]\n",
    "df.columns = ['id', 'start', 'end', 'visits', 'counter', 'park', 'north', 'east']\n",
    "\n",
    "df = df.dropna()\n",
    "df['duration'] = df.end - df.start\n",
    "\n",
    "df = df.astype({\"visits\": int, \"counter\": int, \"park\": int, 'north': int, 'east': int})"
   ]
  },
  {
   "cell_type": "code",
   "execution_count": 8,
   "metadata": {},
   "outputs": [],
   "source": [
    "weather = pd.read_csv('weather_finland.csv')\n",
    "\n",
    "weather.columns = ['year', 'month', 'day', 'hh:mm', 'time zone', 'clouds', 'humidity', 'precipitation', 'snow', 'temp', 'wind']\n",
    "\n",
    "hhmm = weather['hh:mm'].str.split(\":\", n = 1, expand = True) \n",
    "weather['hh'] = hhmm[0]\n",
    "weather['mm'] = hhmm[1]\n",
    "\n",
    "weather['start'] = weather.apply(lambda x: pd.Timestamp(int(x[0]), int(x[1]), int(x[2]), int(x[11]), int(x[12])), 1)"
   ]
  },
  {
   "cell_type": "code",
   "execution_count": 9,
   "metadata": {},
   "outputs": [],
   "source": [
    "w = weather[['start', 'clouds', 'humidity', 'precipitation', 'snow', 'temp', 'wind']]\n",
    "w = w.dropna()\n",
    "w = w.resample('12h', on='start').mean()[['clouds', 'humidity', 'precipitation', 'snow', 'temp', 'wind']]"
   ]
  },
  {
   "cell_type": "code",
   "execution_count": 111,
   "metadata": {},
   "outputs": [],
   "source": [
    "forecast = pd.read_csv('forecast.csv')\n",
    "forecast.columns = ['year', 'month', 'day', 'hh:mm', 'time zone', 'clouds', 'humidity', 'precipitation', 'snow', 'temp', 'wind']\n",
    "\n",
    "hhmm = forecast['hh:mm'].str.split(\":\", n = 1, expand = True) \n",
    "forecast['hh'] = hhmm[0]\n",
    "forecast['mm'] = hhmm[1]\n",
    "\n",
    "forecast['start'] = forecast.apply(lambda x: pd.Timestamp(int(x[0]), int(x[1]), int(x[2]), int(x[11]), int(x[12])), 1)"
   ]
  },
  {
   "cell_type": "code",
   "execution_count": 122,
   "metadata": {},
   "outputs": [],
   "source": [
    "forecast = forecast.drop(columns=['year', 'month', 'day', 'hh:mm', 'time zone', 'hh', 'mm'])"
   ]
  },
  {
   "cell_type": "code",
   "execution_count": 125,
   "metadata": {},
   "outputs": [],
   "source": [
    "forecast = forecast.resample('12h', on='start').mean()"
   ]
  },
  {
   "cell_type": "code",
   "execution_count": 126,
   "metadata": {},
   "outputs": [],
   "source": [
    "forecast.to_csv('forecast_clean.csv')"
   ]
  },
  {
   "cell_type": "code",
   "execution_count": 10,
   "metadata": {},
   "outputs": [],
   "source": [
    "df_hourly = df[(df.duration == np.timedelta64(1, 'h')) & (df.park == 625)].sort_values('start')\n",
    "df_counters = df_hourly.resample('12h', on='start').sum()[['visits']]  # only daily data in Nuuksio"
   ]
  },
  {
   "cell_type": "code",
   "execution_count": 19,
   "metadata": {},
   "outputs": [],
   "source": [
    "tmp = pd.merge(df_counters, w, on='start', how='inner')\n",
    "c = pd.merge(tmp, df_hourly[['id', 'start', 'counter', 'park', 'north', 'east']], on='start', how='inner')\n",
    "c = c.dropna()"
   ]
  },
  {
   "cell_type": "code",
   "execution_count": 20,
   "metadata": {},
   "outputs": [],
   "source": [
    "df_flat = pd.DataFrame(c.to_records())"
   ]
  },
  {
   "cell_type": "code",
   "execution_count": 28,
   "metadata": {},
   "outputs": [],
   "source": [
    "#df_hourly = c[(c.duration == np.timedelta64(1, 'h')) & (c.park == 625)].sort_values('start')"
   ]
  },
  {
   "cell_type": "code",
   "execution_count": 29,
   "metadata": {},
   "outputs": [],
   "source": [
    "#df_counters = df_hourly.groupby('counter').resample('6h', on='start').sum()[['visits']]  # only daily data in Nuuksio"
   ]
  },
  {
   "cell_type": "code",
   "execution_count": 30,
   "metadata": {},
   "outputs": [],
   "source": [
    "#medians = df_flat.groupby('counter').median()['visits']"
   ]
  },
  {
   "cell_type": "code",
   "execution_count": 135,
   "metadata": {},
   "outputs": [],
   "source": [
    "quantile1 = df_flat.groupby('counter').quantile(.25)['visits']\n",
    "quantile2 = df_flat.groupby('counter').quantile(.5)['visits']\n",
    "quantile3 = df_flat.groupby('counter').quantile(.75)['visits']"
   ]
  },
  {
   "cell_type": "code",
   "execution_count": 249,
   "metadata": {},
   "outputs": [],
   "source": [
    "df_flat['week_day'] = df_flat.start.dt.dayofweek\n",
    "df_flat['weekend'] = df_flat.week_day.isin([5, 6]).astype(int)\n",
    "df_flat['month'] = df_flat.start.dt.month\n",
    "df_flat['day'] = df_flat.start.dt.day\n",
    "df_flat['hour'] = df_flat.start.dt.hour\n",
    "\n",
    "\n",
    "df_flat = df_flat.sort_values(by=['start'])\n",
    "df_flat['counter_busy'] = df_flat.apply(lambda x: \n",
    "                                        (x[2] > quantile2[x[10]]).astype(int) +\n",
    "                                        (x[2] > quantile2[x[10]]).astype(int) + \n",
    "                                        (x[2] > quantile2[x[10]]).astype(int)\n",
    "                                        , 1)\n",
    "                                        \n",
    "\n",
    "# df_flat['busy'] += (df_flat['visits'] > df_flat['visits'].quantile(0.25)).astype(int)\n",
    "# df_flat['busy'] += (df_flat['visits'] > df_flat['visits'].quantile(0.5)).astype(int)\n",
    "# df_flat['busy'] += (df_flat['visits'] > df_flat['visits'].quantile(0.75)).astype(int)\n",
    "#df_flat['counter_busy'] = df_flat.apply(lambda x: x[4] > medians[x[5]], 1).astype(int)"
   ]
  },
  {
   "cell_type": "code",
   "execution_count": 250,
   "metadata": {},
   "outputs": [],
   "source": [
    "# df_flat['week_day'] = df_flat.start.dt.dayofweek\n",
    "# df_flat['weekend'] = df_flat.week_day.isin([5, 6]).astype(int)\n",
    "# df_flat['month'] = df_flat.start.dt.month\n",
    "# df_flat['day'] = df_flat.start.dt.day\n",
    "# df_flat['hour'] = df_flat.start.dt.hour\n",
    "\n",
    "\n",
    "# df_flat = df_flat.sort_values(by=['start'])\n",
    "df_flat['busy'] = 0\n",
    "# df_flat['busy'] += (df_flat['visits'] > df_flat['visits'].quantile(0.25)).astype(int)\n",
    "df_flat['busy'] += (df_flat['visits'] > df_flat['visits'].quantile(0.5)).astype(int)\n",
    "# df_flat['busy'] += (df_flat['visits'] > df_flat['visits'].quantile(0.75)).astype(int)\n",
    "#df_flat['counter_busy'] = df_flat.apply(lambda x: x[4] > medians[x[5]], 1).astype(int)"
   ]
  },
  {
   "cell_type": "markdown",
   "metadata": {},
   "source": [
    "# FEATURES:"
   ]
  },
  {
   "cell_type": "markdown",
   "metadata": {},
   "source": [
    "1. Day of the week\n",
    "2. Month\n",
    "3. Day number\n",
    "4. Temp"
   ]
  },
  {
   "cell_type": "code",
   "execution_count": 251,
   "metadata": {},
   "outputs": [],
   "source": [
    "df_flat = df_flat[df_flat.visits > 0]"
   ]
  },
  {
   "cell_type": "code",
   "execution_count": 252,
   "metadata": {},
   "outputs": [],
   "source": [
    "threshold = pd.datetime(2019, 2, 1)\n",
    "\n",
    "df_train = df_flat[df_flat.start < threshold]\n",
    "df_test = df_flat[df_flat.start >= threshold]"
   ]
  },
  {
   "cell_type": "code",
   "execution_count": 253,
   "metadata": {},
   "outputs": [
    {
     "name": "stdout",
     "output_type": "stream",
     "text": [
      "(11482, 21)\n",
      "(2931, 21)\n"
     ]
    }
   ],
   "source": [
    "print(df_train.shape)\n",
    "print(df_test.shape)"
   ]
  },
  {
   "cell_type": "code",
   "execution_count": 254,
   "metadata": {},
   "outputs": [
    {
     "data": {
      "text/plain": [
       "array([0.13957449, 0.12734744, 0.09027456, 0.07373551, 0.27448123,\n",
       "       0.00823614, 0.06782249, 0.21852814])"
      ]
     },
     "execution_count": 254,
     "metadata": {},
     "output_type": "execute_result"
    }
   ],
   "source": [
    "x_train = df_train[['month', 'weekend', 'week_day', 'day', 'hour', 'counter', 'precipitation', 'temp']].values\n",
    "x_test = df_test[['month', 'weekend', 'week_day', 'day', 'hour', 'counter', 'precipitation', 'temp']].values\n",
    "y_train = df_train[['busy']].values.ravel()\n",
    "y_test = df_test[['busy']].values.ravel()\n",
    "\n",
    "# x_train, x_test, y_train, y_test = train_test_split(x_data, y_data)\n",
    "\n",
    "# clf = DecisionTreeClassifier(min_samples_split=1)\n",
    "clf = RandomForestClassifier(n_estimators=10, max_depth=10)\n",
    "# clf = ExtraTreesClassifier(n_estimators=3)\n",
    "clf.fit(x_train, y_train)\n",
    "clf.score(x_test, y_test)\n",
    "\n",
    "clf.feature_importances_"
   ]
  },
  {
   "cell_type": "code",
   "execution_count": 255,
   "metadata": {},
   "outputs": [
    {
     "data": {
      "text/plain": [
       "array([0.31643077, 0.08866547, 0.15297524, 0.20360092, 0.23200997,\n",
       "       0.00631763])"
      ]
     },
     "execution_count": 255,
     "metadata": {},
     "output_type": "execute_result"
    }
   ],
   "source": [
    "x_train = df_train[['month', 'weekend', 'week_day', 'day', 'hour', 'counter']].values\n",
    "x_test = df_test[['month', 'weekend', 'week_day', 'day', 'hour', 'counter']].values\n",
    "y_train = df_train[['busy']].values.ravel()\n",
    "y_test = df_test[['busy']].values.ravel()\n",
    "\n",
    "# x_train, x_test, y_train, y_test = train_test_split(x_data, y_data)\n",
    "\n",
    "# clf = DecisionTreeClassifier(min_samples_split=1)\n",
    "clf = RandomForestRegressor(n_estimators=100, max_depth=10)\n",
    "# clf = ExtraTreesClassifier(n_estimators=3)\n",
    "clf.fit(x_train, y_train)\n",
    "clf.score(x_test, y_test)\n",
    "\n",
    "clf.feature_importances_"
   ]
  },
  {
   "cell_type": "code",
   "execution_count": 241,
   "metadata": {},
   "outputs": [
    {
     "data": {
      "text/plain": [
       "array([0.14663316, 0.06741671, 0.12067829, 0.10586661, 0.19961329,\n",
       "       0.01307695, 0.10118466, 0.24553032])"
      ]
     },
     "execution_count": 241,
     "metadata": {},
     "output_type": "execute_result"
    }
   ],
   "source": [
    "clf.feature_importances_"
   ]
  },
  {
   "cell_type": "code",
   "execution_count": 128,
   "metadata": {},
   "outputs": [],
   "source": [
    "import joblib"
   ]
  },
  {
   "cell_type": "code",
   "execution_count": 228,
   "metadata": {},
   "outputs": [
    {
     "data": {
      "text/plain": [
       "['weather_pred_relative.joblib']"
      ]
     },
     "execution_count": 228,
     "metadata": {},
     "output_type": "execute_result"
    }
   ],
   "source": [
    "joblib.dump(clf, 'weather_pred_relative.joblib')"
   ]
  },
  {
   "cell_type": "code",
   "execution_count": 23,
   "metadata": {},
   "outputs": [
    {
     "name": "stderr",
     "output_type": "stream",
     "text": [
      "/opt/conda/lib/python3.7/site-packages/pandas/plotting/_matplotlib/converter.py:102: FutureWarning:\n",
      "\n",
      "Using an implicitly registered datetime converter for a matplotlib plotting method. The converter was registered by pandas on import. Future versions of pandas will require you to explicitly register matplotlib converters.\n",
      "\n",
      "To register the converters:\n",
      "\t>>> from pandas.plotting import register_matplotlib_converters\n",
      "\t>>> register_matplotlib_converters()\n",
      "\n"
     ]
    },
    {
     "data": {
      "image/png": "[encoded data removed]",
      "text/plain": [
       "<Figure size 864x576 with 1 Axes>"
      ]
     },
     "metadata": {},
     "output_type": "display_data"
    },
    {
     "data": {
      "text/plain": [
       "(365, 1)"
      ]
     },
     "execution_count": 23,
     "metadata": {},
     "output_type": "execute_result"
    }
   ],
   "source": [
    "idx = 0  # 0..5\n",
    "year_start = 2018\n",
    "year_end = year_start + 1\n",
    "\n",
    "counter_id = counter_ids[idx]\n",
    "\n",
    "df_plot = df_counters[df_counters.index.get_level_values('start') < pd.datetime(year_end, 1, 1)]\n",
    "df_plot = df_plot[pd.datetime(year_start, 1, 1) <= df_plot.index.get_level_values('start')]\n",
    "\n",
    "sns.scatterplot(x=df_plot.loc[counter_id].index, y='visits', data=df_plot.loc[counter_id])\n",
    "plt.xlim(pd.datetime(year_start, 1, 1), pd.datetime(year_end, 1, 1))\n",
    "plt.ylim(0, 200)\n",
    "plt.show()\n",
    "df_plot.loc[counter_id].shape"
   ]
  },
  {
   "cell_type": "code",
   "execution_count": 24,
   "metadata": {},
   "outputs": [],
   "source": [
    "coords = df_hourly.apply(lambda x: (x[7], x[6]), axis=1).unique()"
   ]
  },
  {
   "cell_type": "code",
   "execution_count": 25,
   "metadata": {},
   "outputs": [],
   "source": [
    "# Coordinate conversion template\n",
    "crs = CRS.from_epsg(3067)\n",
    "\n",
    "in_proj = Proj('epsg:3067')\n",
    "out_proj = Proj('merc')\n",
    "\n",
    "# x, y = transform(in_proj, out_proj, df_hourly.east.values[1000], df_hourly.north.values[1000])\n",
    "\n",
    "# x, y"
   ]
  },
  {
   "cell_type": "code",
   "execution_count": 26,
   "metadata": {},
   "outputs": [],
   "source": [
    "merc_coords = []\n",
    "for east, north in coords:\n",
    "    merc_coords.append(transform(in_proj, out_proj, east, north))"
   ]
  },
  {
   "cell_type": "code",
   "execution_count": 27,
   "metadata": {},
   "outputs": [
    {
     "data": {
      "text/plain": [
       "[(60.303525451006834, 24.550391008969527),\n",
       " (60.33073081360451, 24.492838046488888),\n",
       " (60.27581963490531, 24.46368928427852),\n",
       " (60.326924542956334, 24.495358359272675),\n",
       " (60.29819039594651, 24.45628974906327),\n",
       " (60.28242199633351, 24.505873789599413)]"
      ]
     },
     "execution_count": 27,
     "metadata": {},
     "output_type": "execute_result"
    }
   ],
   "source": [
    "merc_coords"
   ]
  }
 ],
 "metadata": {
  "kernelspec": {
   "display_name": "Py3.7-Junction",
   "language": "python",
   "name": "junction"
  },
  "language_info": {
   "codemirror_mode": {
    "name": "ipython",
    "version": 3
   },
   "file_extension": ".py",
   "mimetype": "text/x-python",
   "name": "python",
   "nbconvert_exporter": "python",
   "pygments_lexer": "ipython3",
   "version": "3.7.0"
  }
 },
 "nbformat": 4,
 "nbformat_minor": 4
}
